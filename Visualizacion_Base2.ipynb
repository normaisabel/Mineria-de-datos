{
 "cells": [
  {
   "cell_type": "markdown",
   "metadata": {},
   "source": [
    "# Mineria de datos\n",
    "## PRÁCTICA DE VISUALIZACIÓN\n",
    "## EQUIPO 4:\n",
    "-Julio César Ramiro Mayorga / 1842201\n",
    "\n",
    "-Norma Isabel Martínez Valdez / 1941443\n",
    "\n",
    "-Jisbeth Jaquelin Díaz Vázquez / 1857602\n",
    "\n",
    "-Linda Karina Requenes Villarreal / 1854552\n",
    "\n",
    "Base de datos: USED CARS DATASET\n",
    "\n",
    "URL: https://www.kaggle.com/austinreese/craigslist-carstrucks-data\n"
   ]
  },
  {
   "cell_type": "markdown",
   "metadata": {},
   "source": [
    "# Información estadística básica\n",
    "\n",
    "Realizamos algunas acciones para poder visualizar y trabajar mejor. Realizamos un pequeño resumen desde el principio para ver las diferencias a lo largo del trabajo.\n",
    "Tomamos la  base de datos y después de realizamos los cambios correspondientes de limpieza de datos."
   ]
  },
  {
   "cell_type": "code",
   "execution_count": 35,
   "metadata": {},
   "outputs": [],
   "source": [
    "import pandas as pd\n",
    "pd.plotting.register_matplotlib_converters()\n",
    "import numpy as np\n",
    "import json\n",
    "import matplotlib.pyplot as plt \n",
    "%matplotlib inline\n",
    "import seaborn as ss\n",
    "\n"
   ]
  },
  {
   "cell_type": "markdown",
   "metadata": {},
   "source": [
    "**Base de datos**"
   ]
  },
  {
   "cell_type": "code",
   "execution_count": 14,
   "metadata": {
    "scrolled": true
   },
   "outputs": [
    {
     "name": "stdout",
     "output_type": "stream",
     "text": [
      "                id                                                url  \\\n",
      "0       7222695916  https://prescott.craigslist.org/cto/d/prescott...   \n",
      "1       7218891961  https://fayar.craigslist.org/ctd/d/bentonville...   \n",
      "2       7221797935  https://keys.craigslist.org/cto/d/summerland-k...   \n",
      "3       7222270760  https://worcester.craigslist.org/cto/d/west-br...   \n",
      "4       7210384030  https://greensboro.craigslist.org/cto/d/trinit...   \n",
      "...            ...                                                ...   \n",
      "426875  7301591192  https://wyoming.craigslist.org/ctd/d/atlanta-2...   \n",
      "426876  7301591187  https://wyoming.craigslist.org/ctd/d/atlanta-2...   \n",
      "426877  7301591147  https://wyoming.craigslist.org/ctd/d/atlanta-2...   \n",
      "426878  7301591140  https://wyoming.craigslist.org/ctd/d/atlanta-2...   \n",
      "426879  7301591129  https://wyoming.craigslist.org/ctd/d/atlanta-2...   \n",
      "\n",
      "                        region                         region_url  price  \\\n",
      "0                     prescott    https://prescott.craigslist.org   6000   \n",
      "1                 fayetteville       https://fayar.craigslist.org  11900   \n",
      "2                 florida keys        https://keys.craigslist.org  21000   \n",
      "3       worcester / central MA   https://worcester.craigslist.org   1500   \n",
      "4                   greensboro  https://greensboro.craigslist.org   4900   \n",
      "...                        ...                                ...    ...   \n",
      "426875                 wyoming     https://wyoming.craigslist.org  23590   \n",
      "426876                 wyoming     https://wyoming.craigslist.org  30590   \n",
      "426877                 wyoming     https://wyoming.craigslist.org  34990   \n",
      "426878                 wyoming     https://wyoming.craigslist.org  28990   \n",
      "426879                 wyoming     https://wyoming.craigslist.org  30590   \n",
      "\n",
      "          year manufacturer                     model condition    cylinders  \\\n",
      "0          NaN          NaN                       NaN       NaN          NaN   \n",
      "1          NaN          NaN                       NaN       NaN          NaN   \n",
      "2          NaN          NaN                       NaN       NaN          NaN   \n",
      "3          NaN          NaN                       NaN       NaN          NaN   \n",
      "4          NaN          NaN                       NaN       NaN          NaN   \n",
      "...        ...          ...                       ...       ...          ...   \n",
      "426875  2019.0       nissan         maxima s sedan 4d      good  6 cylinders   \n",
      "426876  2020.0        volvo  s60 t5 momentum sedan 4d      good          NaN   \n",
      "426877  2020.0     cadillac          xt4 sport suv 4d      good          NaN   \n",
      "426878  2018.0        lexus           es 350 sedan 4d      good  6 cylinders   \n",
      "426879  2019.0          bmw  4 series 430i gran coupe      good          NaN   \n",
      "\n",
      "        ... size       type paint_color  \\\n",
      "0       ...  NaN        NaN         NaN   \n",
      "1       ...  NaN        NaN         NaN   \n",
      "2       ...  NaN        NaN         NaN   \n",
      "3       ...  NaN        NaN         NaN   \n",
      "4       ...  NaN        NaN         NaN   \n",
      "...     ...  ...        ...         ...   \n",
      "426875  ...  NaN      sedan         NaN   \n",
      "426876  ...  NaN      sedan         red   \n",
      "426877  ...  NaN  hatchback       white   \n",
      "426878  ...  NaN      sedan      silver   \n",
      "426879  ...  NaN      coupe         NaN   \n",
      "\n",
      "                                                image_url  \\\n",
      "0                                                     NaN   \n",
      "1                                                     NaN   \n",
      "2                                                     NaN   \n",
      "3                                                     NaN   \n",
      "4                                                     NaN   \n",
      "...                                                   ...   \n",
      "426875  https://images.craigslist.org/00o0o_iiraFnHg8q...   \n",
      "426876  https://images.craigslist.org/00x0x_15sbgnxCIS...   \n",
      "426877  https://images.craigslist.org/00L0L_farM7bxnxR...   \n",
      "426878  https://images.craigslist.org/00z0z_bKnIVGLkDT...   \n",
      "426879  https://images.craigslist.org/00Y0Y_lEUocjyRxa...   \n",
      "\n",
      "                                              description county state  \\\n",
      "0                                                     NaN    NaN    az   \n",
      "1                                                     NaN    NaN    ar   \n",
      "2                                                     NaN    NaN    fl   \n",
      "3                                                     NaN    NaN    ma   \n",
      "4                                                     NaN    NaN    nc   \n",
      "...                                                   ...    ...   ...   \n",
      "426875  Carvana is the safer way to buy a car During t...    NaN    wy   \n",
      "426876  Carvana is the safer way to buy a car During t...    NaN    wy   \n",
      "426877  Carvana is the safer way to buy a car During t...    NaN    wy   \n",
      "426878  Carvana is the safer way to buy a car During t...    NaN    wy   \n",
      "426879  Carvana is the safer way to buy a car During t...    NaN    wy   \n",
      "\n",
      "              lat       long              posting_date  \n",
      "0             NaN        NaN                       NaN  \n",
      "1             NaN        NaN                       NaN  \n",
      "2             NaN        NaN                       NaN  \n",
      "3             NaN        NaN                       NaN  \n",
      "4             NaN        NaN                       NaN  \n",
      "...           ...        ...                       ...  \n",
      "426875  33.786500 -84.445400  2021-04-04T03:21:31-0600  \n",
      "426876  33.786500 -84.445400  2021-04-04T03:21:29-0600  \n",
      "426877  33.779214 -84.411811  2021-04-04T03:21:17-0600  \n",
      "426878  33.786500 -84.445400  2021-04-04T03:21:11-0600  \n",
      "426879  33.779214 -84.411811  2021-04-04T03:21:07-0600  \n",
      "\n",
      "[426880 rows x 26 columns]\n",
      "(426880, 26)\n"
     ]
    }
   ],
   "source": [
    "# Csv de used cars\n",
    "df= pd.read_csv(\"/Users/hp/OneDrive/Escritorio/vehicles.csv\") \n",
    "print(df) ##Descarga todo el archivo\n",
    "print(df.shape)##Imprime la cantidad de filas y columnas\n"
   ]
  },
  {
   "cell_type": "markdown",
   "metadata": {},
   "source": [
    "## Visualización de datos"
   ]
  },
  {
   "cell_type": "code",
   "execution_count": 15,
   "metadata": {
    "scrolled": true
   },
   "outputs": [
    {
     "name": "stdout",
     "output_type": "stream",
     "text": [
      "(426880, 26)\n"
     ]
    }
   ],
   "source": [
    "# Cantidad de filas, columnas\n",
    "print(df.shape)"
   ]
  },
  {
   "cell_type": "code",
   "execution_count": 79,
   "metadata": {
    "scrolled": true
   },
   "outputs": [
    {
     "data": {
      "text/html": [
       "<div>\n",
       "<style scoped>\n",
       "    .dataframe tbody tr th:only-of-type {\n",
       "        vertical-align: middle;\n",
       "    }\n",
       "\n",
       "    .dataframe tbody tr th {\n",
       "        vertical-align: top;\n",
       "    }\n",
       "\n",
       "    .dataframe thead th {\n",
       "        text-align: right;\n",
       "    }\n",
       "</style>\n",
       "<table border=\"1\" class=\"dataframe\">\n",
       "  <thead>\n",
       "    <tr style=\"text-align: right;\">\n",
       "      <th></th>\n",
       "      <th>Contador</th>\n",
       "      <th>Precio</th>\n",
       "      <th>Año</th>\n",
       "      <th>Marca</th>\n",
       "      <th>Modelo</th>\n",
       "      <th>Cilindros</th>\n",
       "      <th>Combustible</th>\n",
       "      <th>Kilometraje</th>\n",
       "      <th>Transmision</th>\n",
       "      <th>Color</th>\n",
       "      <th>Estado</th>\n",
       "    </tr>\n",
       "  </thead>\n",
       "  <tbody>\n",
       "    <tr>\n",
       "      <th>28</th>\n",
       "      <td>1</td>\n",
       "      <td>22590</td>\n",
       "      <td>2010.0</td>\n",
       "      <td>chevrolet</td>\n",
       "      <td>silverado 1500</td>\n",
       "      <td>8 cylinders</td>\n",
       "      <td>gas</td>\n",
       "      <td>71229.0</td>\n",
       "      <td>other</td>\n",
       "      <td>blue</td>\n",
       "      <td>al</td>\n",
       "    </tr>\n",
       "    <tr>\n",
       "      <th>29</th>\n",
       "      <td>1</td>\n",
       "      <td>39590</td>\n",
       "      <td>2020.0</td>\n",
       "      <td>chevrolet</td>\n",
       "      <td>silverado 1500 crew</td>\n",
       "      <td>8 cylinders</td>\n",
       "      <td>gas</td>\n",
       "      <td>19160.0</td>\n",
       "      <td>other</td>\n",
       "      <td>red</td>\n",
       "      <td>al</td>\n",
       "    </tr>\n",
       "    <tr>\n",
       "      <th>30</th>\n",
       "      <td>1</td>\n",
       "      <td>30990</td>\n",
       "      <td>2017.0</td>\n",
       "      <td>toyota</td>\n",
       "      <td>tundra double cab sr</td>\n",
       "      <td>8 cylinders</td>\n",
       "      <td>gas</td>\n",
       "      <td>41124.0</td>\n",
       "      <td>other</td>\n",
       "      <td>red</td>\n",
       "      <td>al</td>\n",
       "    </tr>\n",
       "    <tr>\n",
       "      <th>31</th>\n",
       "      <td>1</td>\n",
       "      <td>15000</td>\n",
       "      <td>2013.0</td>\n",
       "      <td>ford</td>\n",
       "      <td>f-150 xlt</td>\n",
       "      <td>6 cylinders</td>\n",
       "      <td>gas</td>\n",
       "      <td>128000.0</td>\n",
       "      <td>automatic</td>\n",
       "      <td>black</td>\n",
       "      <td>al</td>\n",
       "    </tr>\n",
       "    <tr>\n",
       "      <th>32</th>\n",
       "      <td>1</td>\n",
       "      <td>27990</td>\n",
       "      <td>2012.0</td>\n",
       "      <td>gmc</td>\n",
       "      <td>sierra 2500 hd extended cab</td>\n",
       "      <td>8 cylinders</td>\n",
       "      <td>gas</td>\n",
       "      <td>68696.0</td>\n",
       "      <td>other</td>\n",
       "      <td>black</td>\n",
       "      <td>al</td>\n",
       "    </tr>\n",
       "    <tr>\n",
       "      <th>...</th>\n",
       "      <td>...</td>\n",
       "      <td>...</td>\n",
       "      <td>...</td>\n",
       "      <td>...</td>\n",
       "      <td>...</td>\n",
       "      <td>...</td>\n",
       "      <td>...</td>\n",
       "      <td>...</td>\n",
       "      <td>...</td>\n",
       "      <td>...</td>\n",
       "      <td>...</td>\n",
       "    </tr>\n",
       "    <tr>\n",
       "      <th>121</th>\n",
       "      <td>1</td>\n",
       "      <td>25990</td>\n",
       "      <td>2018.0</td>\n",
       "      <td>volvo</td>\n",
       "      <td>s60 t5 inscription sedan</td>\n",
       "      <td>NaN</td>\n",
       "      <td>diesel</td>\n",
       "      <td>22834.0</td>\n",
       "      <td>other</td>\n",
       "      <td>NaN</td>\n",
       "      <td>al</td>\n",
       "    </tr>\n",
       "    <tr>\n",
       "      <th>122</th>\n",
       "      <td>1</td>\n",
       "      <td>6800</td>\n",
       "      <td>2005.0</td>\n",
       "      <td>NaN</td>\n",
       "      <td>blue bird bus</td>\n",
       "      <td>6 cylinders</td>\n",
       "      <td>diesel</td>\n",
       "      <td>180000.0</td>\n",
       "      <td>automatic</td>\n",
       "      <td>yellow</td>\n",
       "      <td>al</td>\n",
       "    </tr>\n",
       "    <tr>\n",
       "      <th>123</th>\n",
       "      <td>1</td>\n",
       "      <td>36590</td>\n",
       "      <td>2019.0</td>\n",
       "      <td>volvo</td>\n",
       "      <td>s60 t6 r-design sedan 4d</td>\n",
       "      <td>NaN</td>\n",
       "      <td>gas</td>\n",
       "      <td>7618.0</td>\n",
       "      <td>other</td>\n",
       "      <td>white</td>\n",
       "      <td>al</td>\n",
       "    </tr>\n",
       "    <tr>\n",
       "      <th>124</th>\n",
       "      <td>1</td>\n",
       "      <td>35990</td>\n",
       "      <td>2019.0</td>\n",
       "      <td>volvo</td>\n",
       "      <td>s60 t6 r-design sedan 4d</td>\n",
       "      <td>NaN</td>\n",
       "      <td>other</td>\n",
       "      <td>15567.0</td>\n",
       "      <td>other</td>\n",
       "      <td>red</td>\n",
       "      <td>al</td>\n",
       "    </tr>\n",
       "    <tr>\n",
       "      <th>125</th>\n",
       "      <td>1</td>\n",
       "      <td>33590</td>\n",
       "      <td>2019.0</td>\n",
       "      <td>volvo</td>\n",
       "      <td>s60 t6 r-design sedan 4d</td>\n",
       "      <td>NaN</td>\n",
       "      <td>gas</td>\n",
       "      <td>10742.0</td>\n",
       "      <td>other</td>\n",
       "      <td>silver</td>\n",
       "      <td>al</td>\n",
       "    </tr>\n",
       "  </tbody>\n",
       "</table>\n",
       "<p>98 rows × 11 columns</p>\n",
       "</div>"
      ],
      "text/plain": [
       "    Contador  Precio     Año      Marca                       Modelo  \\\n",
       "28         1   22590  2010.0  chevrolet               silverado 1500   \n",
       "29         1   39590  2020.0  chevrolet          silverado 1500 crew   \n",
       "30         1   30990  2017.0     toyota         tundra double cab sr   \n",
       "31         1   15000  2013.0       ford                    f-150 xlt   \n",
       "32         1   27990  2012.0        gmc  sierra 2500 hd extended cab   \n",
       "..       ...     ...     ...        ...                          ...   \n",
       "121        1   25990  2018.0      volvo     s60 t5 inscription sedan   \n",
       "122        1    6800  2005.0        NaN                blue bird bus   \n",
       "123        1   36590  2019.0      volvo     s60 t6 r-design sedan 4d   \n",
       "124        1   35990  2019.0      volvo     s60 t6 r-design sedan 4d   \n",
       "125        1   33590  2019.0      volvo     s60 t6 r-design sedan 4d   \n",
       "\n",
       "       Cilindros Combustible  Kilometraje Transmision   Color Estado  \n",
       "28   8 cylinders         gas      71229.0       other    blue     al  \n",
       "29   8 cylinders         gas      19160.0       other     red     al  \n",
       "30   8 cylinders         gas      41124.0       other     red     al  \n",
       "31   6 cylinders         gas     128000.0   automatic   black     al  \n",
       "32   8 cylinders         gas      68696.0       other   black     al  \n",
       "..           ...         ...          ...         ...     ...    ...  \n",
       "121          NaN      diesel      22834.0       other     NaN     al  \n",
       "122  6 cylinders      diesel     180000.0   automatic  yellow     al  \n",
       "123          NaN         gas       7618.0       other   white     al  \n",
       "124          NaN       other      15567.0       other     red     al  \n",
       "125          NaN         gas      10742.0       other  silver     al  \n",
       "\n",
       "[98 rows x 11 columns]"
      ]
     },
     "execution_count": 79,
     "metadata": {},
     "output_type": "execute_result"
    }
   ],
   "source": [
    "# 126 primeros datos de la tabla\n",
    "ad = df.head(126)\n",
    "df1 = ad.drop([\"drive\",\"url\",\"region_url\",\"id\",\"type\",\"condition\",\"image_url\",\"description\",\"county\",\"lat\",\"long\",\"posting_date\",\"title_status\",\"size\",\"VIN\"],axis=1)\n",
    "lp = df1.drop([0,1,2,3,4,5,6,7,8,9,10,11,12,13,14,15,16,17,18,19,20,21,22,23,24,25,26,27],axis=0)\n",
    "lp = lp.rename(columns = {'region':'Contador','price':'Precio','model':'Modelo','year':'Año','manufacturer':'Marca','cylinders':'Cilindros','fuel':'Combustible','odometer':'Kilometraje','transmission':'Transmision','paint_color':'Color','state':'Estado'})\n",
    "lp.Contador.replace(to_replace = dict( auburn=\"1\"), inplace = True)\n",
    "lp"
   ]
  },
  {
   "cell_type": "markdown",
   "metadata": {},
   "source": [
    "**Información de estadística básica**\n",
    "\n",
    "Por lo pronto nos enfocamos en la penúltima columna, para obtener información. Con esta función sumamos el número de autos en venta por el color de estos."
   ]
  },
  {
   "cell_type": "code",
   "execution_count": 83,
   "metadata": {},
   "outputs": [
    {
     "data": {
      "text/plain": [
       "Color\n",
       "white     11111111111111111111111\n",
       "black              11111111111111\n",
       "red                11111111111111\n",
       "silver              1111111111111\n",
       "blue                    111111111\n",
       "grey                           11\n",
       "brown                           1\n",
       "yellow                          1\n",
       "Name: Contador, dtype: object"
      ]
     },
     "execution_count": 83,
     "metadata": {},
     "output_type": "execute_result"
    }
   ],
   "source": [
    "Colors = lp[\"Contador\"].groupby(lp[\"Color\"]).sum().sort_values(ascending=False)\n",
    "Colors.head(15)"
   ]
  },
  {
   "cell_type": "markdown",
   "metadata": {},
   "source": [
    "En la parte superior acomodamos descendientemente, esto quiere decir que nos muestra el color con mayor frecuencia en ventas en primer lugar, en este caso resultó ser el color Blanco.\n",
    "Calculando la media del precios de nuestros 100 autos."
   ]
  },
  {
   "cell_type": "code",
   "execution_count": 85,
   "metadata": {},
   "outputs": [
    {
     "name": "stdout",
     "output_type": "stream",
     "text": [
      "La media es: 26686.224489795917\n"
     ]
    }
   ],
   "source": [
    "a = lp.Precio.mean()\n",
    "print(\"La media es:\", a) "
   ]
  },
  {
   "cell_type": "markdown",
   "metadata": {},
   "source": [
    "Al seguir trabajando con nuestra data 'Precio' calculamos ciertas medidas de dispersión como lo son la varianza, la mediana y la desviación estándar."
   ]
  },
  {
   "cell_type": "code",
   "execution_count": 86,
   "metadata": {
    "scrolled": true
   },
   "outputs": [
    {
     "name": "stdout",
     "output_type": "stream",
     "text": [
      "Mediana:  28590.0\n",
      "Varianza:  90890124.77382705\n",
      "Desviación estándar:  9533.631248051659\n"
     ]
    }
   ],
   "source": [
    "print(\"Mediana: \",lp.Precio.median())\n",
    "print(\"Varianza: \",lp.Precio.var())\n",
    "print(\"Desviación estándar: \",lp.Precio.std())"
   ]
  },
  {
   "cell_type": "markdown",
   "metadata": {},
   "source": [
    "# Gráficas\n",
    "\n",
    "La siguiente gráfica nos representa la frecuencia del kilometraje de autos en venta."
   ]
  },
  {
   "cell_type": "code",
   "execution_count": 105,
   "metadata": {
    "scrolled": true
   },
   "outputs": [
    {
     "data": {
      "image/png": "[encoded data removed]",
      "text/plain": [
       "<Figure size 1008x504 with 1 Axes>"
      ]
     },
     "metadata": {
      "needs_background": "light"
     },
     "output_type": "display_data"
    }
   ],
   "source": [
    "import matplotlib as mt\n",
    "from matplotlib import pyplot\n",
    "\n",
    "mt.pyplot.figure(figsize=(14,7))\n",
    "\n",
    "mt.pyplot.hist(lp['Kilometraje'], color= '#808000')\n",
    "mt.pyplot.xlabel('Kilometraje')\n",
    "mt.pyplot.ylabel('Frecuencia')\n",
    "mt.pyplot.title (\"KILOMETRAJE FRECUENTE DE AUTOS EN VENTA\")\n",
    "mt.pyplot.show()"
   ]
  },
  {
   "cell_type": "markdown",
   "metadata": {},
   "source": [
    "La siguiente gráfica nos representa la frecuencia de autos en venta según el año del modelo en oferta."
   ]
  },
  {
   "cell_type": "code",
   "execution_count": 107,
   "metadata": {},
   "outputs": [
    {
     "data": {
      "image/png": "[encoded data removed]",
      "text/plain": [
       "<Figure size 1008x504 with 1 Axes>"
      ]
     },
     "metadata": {
      "needs_background": "light"
     },
     "output_type": "display_data"
    }
   ],
   "source": [
    "import matplotlib as mt\n",
    "from matplotlib import pyplot\n",
    "\n",
    "mt.pyplot.figure(figsize=(14,7))\n",
    "\n",
    "mt.pyplot.hist(lp['Año'], color= '#ff0000')\n",
    "mt.pyplot.xlabel('Año')\n",
    "mt.pyplot.ylabel('Frecuencia')\n",
    "mt.pyplot.title (\"AÑOS FRECUENTES DE AUTOS EN VENTA\")\n",
    "mt.pyplot.show()"
   ]
  },
  {
   "cell_type": "markdown",
   "metadata": {},
   "source": [
    "El siguiente gráfico nos muestra la cantidad de autos en venta según su marca."
   ]
  },
  {
   "cell_type": "code",
   "execution_count": 111,
   "metadata": {
    "scrolled": true
   },
   "outputs": [
    {
     "name": "stderr",
     "output_type": "stream",
     "text": [
      "C:\\Users\\hp\\anaconda3\\lib\\site-packages\\seaborn\\_decorators.py:36: FutureWarning: Pass the following variable as a keyword arg: x. From version 0.12, the only valid positional argument will be `data`, and passing other arguments without an explicit keyword will result in an error or misinterpretation.\n",
      "  warnings.warn(\n"
     ]
    },
    {
     "data": {
      "text/plain": [
       "<AxesSubplot:xlabel='Marca', ylabel='count'>"
      ]
     },
     "execution_count": 111,
     "metadata": {},
     "output_type": "execute_result"
    },
    {
     "data": {
      "image/png": "[encoded data removed]",
      "text/plain": [
       "<Figure size 432x288 with 1 Axes>"
      ]
     },
     "metadata": {
      "needs_background": "light"
     },
     "output_type": "display_data"
    }
   ],
   "source": [
    "ss.countplot(lp['Marca'])"
   ]
  },
  {
   "cell_type": "markdown",
   "metadata": {},
   "source": [
    "El siguiente gráfico nos muestra la cantidad de autos en oferta por su color."
   ]
  },
  {
   "cell_type": "code",
   "execution_count": 112,
   "metadata": {},
   "outputs": [
    {
     "name": "stderr",
     "output_type": "stream",
     "text": [
      "C:\\Users\\hp\\anaconda3\\lib\\site-packages\\seaborn\\_decorators.py:36: FutureWarning: Pass the following variable as a keyword arg: x. From version 0.12, the only valid positional argument will be `data`, and passing other arguments without an explicit keyword will result in an error or misinterpretation.\n",
      "  warnings.warn(\n"
     ]
    },
    {
     "data": {
      "text/plain": [
       "<AxesSubplot:xlabel='Color', ylabel='count'>"
      ]
     },
     "execution_count": 112,
     "metadata": {},
     "output_type": "execute_result"
    },
    {
     "data": {
      "image/png": "[encoded data removed]",
      "text/plain": [
       "<Figure size 432x288 with 1 Axes>"
      ]
     },
     "metadata": {
      "needs_background": "light"
     },
     "output_type": "display_data"
    }
   ],
   "source": [
    "ss.countplot(lp['Color'])"
   ]
  },
  {
   "cell_type": "markdown",
   "metadata": {},
   "source": [
    "La siguiente gráfica nos representa la relación en color y el precio de los automóviles vendidos. Se puede mostrar que los autos de color rojo tienden a tener un costo más elevado a otros colores. "
   ]
  },
  {
   "cell_type": "code",
   "execution_count": 90,
   "metadata": {},
   "outputs": [
    {
     "data": {
      "text/plain": [
       "<AxesSubplot:xlabel='Color', ylabel='Precio'>"
      ]
     },
     "execution_count": 90,
     "metadata": {},
     "output_type": "execute_result"
    },
    {
     "data": {
      "image/png": "[encoded data removed]",
      "text/plain": [
       "<Figure size 432x288 with 1 Axes>"
      ]
     },
     "metadata": {
      "needs_background": "light"
     },
     "output_type": "display_data"
    }
   ],
   "source": [
    "##Grafico de barras \n",
    "ss.barplot(x= lp['Color'], y=lp['Precio'])"
   ]
  },
  {
   "cell_type": "markdown",
   "metadata": {},
   "source": [
    "La siguiente gráfica nos representa la relación en precio y año de los automóviles vendidos. Se puede mostrar que los autos más recientes tendrán un costo más elevado."
   ]
  },
  {
   "cell_type": "code",
   "execution_count": 91,
   "metadata": {
    "scrolled": true
   },
   "outputs": [
    {
     "data": {
      "text/plain": [
       "<AxesSubplot:xlabel='Precio', ylabel='Año'>"
      ]
     },
     "execution_count": 91,
     "metadata": {},
     "output_type": "execute_result"
    },
    {
     "data": {
      "image/png": "[encoded data removed]",
      "text/plain": [
       "<Figure size 432x288 with 1 Axes>"
      ]
     },
     "metadata": {
      "needs_background": "light"
     },
     "output_type": "display_data"
    }
   ],
   "source": [
    "##Gráfica dispersión\n",
    "ss.scatterplot(x=lp['Precio'], y=lp['Año'])"
   ]
  },
  {
   "cell_type": "markdown",
   "metadata": {},
   "source": [
    "La siguiente gráfica nos representa la cantidad de los automóviles vendidos según su año. Los autos que suelen ofrecerse más a la venta serán aquellos modelos cerca del año 2017."
   ]
  },
  {
   "cell_type": "code",
   "execution_count": 94,
   "metadata": {
    "scrolled": true
   },
   "outputs": [
    {
     "data": {
      "text/plain": [
       "<AxesSubplot:>"
      ]
     },
     "execution_count": 94,
     "metadata": {},
     "output_type": "execute_result"
    },
    {
     "data": {
      "image/png": "[encoded data removed]",
      "text/plain": [
       "<Figure size 432x288 with 1 Axes>"
      ]
     },
     "metadata": {
      "needs_background": "light"
     },
     "output_type": "display_data"
    }
   ],
   "source": [
    "#Gráfico línea\n",
    "lp['Año'].value_counts().sort_index().plot.line()"
   ]
  },
  {
   "cell_type": "markdown",
   "metadata": {},
   "source": [
    "Anterior gráfico con relleno."
   ]
  },
  {
   "cell_type": "code",
   "execution_count": 95,
   "metadata": {},
   "outputs": [
    {
     "data": {
      "text/plain": [
       "<AxesSubplot:>"
      ]
     },
     "execution_count": 95,
     "metadata": {},
     "output_type": "execute_result"
    },
    {
     "data": {
      "image/png": "[encoded data removed]",
      "text/plain": [
       "<Figure size 432x288 with 1 Axes>"
      ]
     },
     "metadata": {
      "needs_background": "light"
     },
     "output_type": "display_data"
    }
   ],
   "source": [
    "#Gráfico lineal con relleno\n",
    "lp['Año'].value_counts().sort_index().plot.area()"
   ]
  },
  {
   "cell_type": "markdown",
   "metadata": {},
   "source": [
    "En el siguiente mostramos la relación directa entre el año del modelo en venta con su precio, remarcando en ello el kilometraje con el que cuenta el automóvil."
   ]
  },
  {
   "cell_type": "code",
   "execution_count": 109,
   "metadata": {
    "scrolled": true
   },
   "outputs": [
    {
     "data": {
      "text/plain": [
       "<AxesSubplot:xlabel='Año', ylabel='Precio'>"
      ]
     },
     "execution_count": 109,
     "metadata": {},
     "output_type": "execute_result"
    },
    {
     "data": {
      "image/png": "[encoded data removed]",
      "text/plain": [
       "<Figure size 432x288 with 1 Axes>"
      ]
     },
     "metadata": {
      "needs_background": "light"
     },
     "output_type": "display_data"
    }
   ],
   "source": [
    "ss.scatterplot(x=lp['Año'], y=lp['Precio'], hue=lp['Kilometraje'])"
   ]
  }
 ],
 "metadata": {
  "kernelspec": {
   "display_name": "Python 3",
   "language": "python",
   "name": "python3"
  },
  "language_info": {
   "codemirror_mode": {
    "name": "ipython",
    "version": 3
   },
   "file_extension": ".py",
   "mimetype": "text/x-python",
   "name": "python",
   "nbconvert_exporter": "python",
   "pygments_lexer": "ipython3",
   "version": "3.8.8"
  }
 },
 "nbformat": 4,
 "nbformat_minor": 4
}
