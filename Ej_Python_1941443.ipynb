{
  "nbformat": 4,
  "nbformat_minor": 0,
  "metadata": {
    "colab": {
      "name": "Untitled0.ipynb",
      "provenance": [],
      "collapsed_sections": []
    },
    "kernelspec": {
      "name": "python3",
      "display_name": "Python 3"
    },
    "language_info": {
      "name": "python"
    }
  },
  "cells": [
    {
      "cell_type": "markdown",
      "metadata": {
        "id": "Dn2EyLA3kVZT"
      },
      "source": [
        "**MÍNERÍA DE DATOS**\n",
        "\n",
        "EJERCICIOS DE PYTHON BÁSICOS\n",
        "\n",
        "Norma Isabel Martínez Valdez // 1941443"
      ]
    },
    {
      "cell_type": "markdown",
      "metadata": {
        "id": "2wcXJSg-lq-1"
      },
      "source": [
        "**Ejercicio 1**\n",
        "\n",
        "Realiza una variable con tu matricula y realiza una secuencia de imprimir con tu nombre y tu matricula concatenados."
      ]
    },
    {
      "cell_type": "code",
      "metadata": {
        "id": "nPc9ZHtYkQBM"
      },
      "source": [
        "nombre=str(input(\"Introduce Nombre: \"))\n",
        "matricula=int(input(\"Introduce Matricula: \"))\n",
        "print(nombre, matricula)"
      ],
      "execution_count": null,
      "outputs": []
    },
    {
      "cell_type": "markdown",
      "metadata": {
        "id": "zrdp-s56nAO8"
      },
      "source": [
        "**Ejercicio 2**\n",
        "\n",
        "Pidiendo el input del usuario pide dos números y crea una pequeña calculadora con los operadores básicos de suma, resta, multiplicación, división, y exponente."
      ]
    },
    {
      "cell_type": "code",
      "metadata": {
        "id": "vXm4lcBanfAl"
      },
      "source": [
        "n1=int(input(\"Ingresa primer número: \"))\n",
        "n2=int(input(\"Ingresa segundo número \"))\n",
        "op=str(input(\"¿Qué operación desea realizar? suma, resta, mult, div, exp: \"))\n",
        "r=0\n",
        "if op==\"suma\":\n",
        "  r=n1+n2\n",
        "elif op==\"resta\":\n",
        "  r=n1-n2\n",
        "elif op==\"mult\":\n",
        "  r=n1*n2\n",
        "elif op==\"div\": \n",
        "  r=n1/n2\n",
        "elif op==\"exp\":\n",
        "  r=n1**n2\n",
        "print(\"El resultado es:\",r)\n"
      ],
      "execution_count": null,
      "outputs": []
    },
    {
      "cell_type": "markdown",
      "metadata": {
        "id": "X93AugfFFFAj"
      },
      "source": [
        "**Ejercicio 3:**\n",
        "\n",
        "Con loop while o for, realiza una lista de 10 numeros multiplos de 3, y después realiza una función de loop que sume todos los números dentro del arreglo."
      ]
    },
    {
      "cell_type": "code",
      "metadata": {
        "id": "MozUHfj3F3Rf"
      },
      "source": [
        "numeros=[]\n",
        "i=0\n",
        "suma=0\n",
        "while i<10:\n",
        "  mult=int(input(\"Ingrese número múltiplo de 3: \"))\n",
        "  ver1=mult/3 #dividimos entre 3\n",
        "  ver2=(ver1).is_integer() #si da 1, e multiplo de 3\n",
        "  if ver2==1:\n",
        "    numeros.append(mult) #agrega el numero al arreglo\n",
        "    i=i+1\n",
        "  else:\n",
        "     print(\"Su número no es múltiplo de 3\")\n",
        "i=0\n",
        "while i<10:\n",
        "  suma=numeros[i]+suma\n",
        "  i=i+1\n",
        "print(\"La suma de los números es: \",suma)"
      ],
      "execution_count": null,
      "outputs": []
    },
    {
      "cell_type": "markdown",
      "metadata": {
        "id": "TeneH1OVKNQr"
      },
      "source": [
        "**Ejercicio 4**\n",
        "\n",
        "Con una función de if else, revisar si un número es par o es impar.\n",
        "Con una función de if else, revisar si un número es primo o no."
      ]
    },
    {
      "cell_type": "code",
      "metadata": {
        "id": "z9C_-e8xKwXN"
      },
      "source": [
        "num=int(input(\"Ingrese un número: \"))\n",
        "if ( num % 2 ) == 0 : \n",
        "        print (num, \"Es número par\")\n",
        "else:\n",
        "        print (num, \"Es número impar\")\n",
        "if num > 1:\n",
        "    # Iterate from 2 to n / 2\n",
        "    for i in range(2, int(num/2)+1): ##https://www.geeksforgeeks.org/python-program-to-check-whether-a-number-is-prime-or-not/\n",
        "        if (num % i) == 0:\n",
        "            print(num, \"No es número primo\")\n",
        "            break\n",
        "    else:\n",
        "        print(num, \"Es número primo\")\n",
        " \n",
        "else:\n",
        "    print(num, \"No es número primo\")"
      ],
      "execution_count": null,
      "outputs": []
    },
    {
      "cell_type": "markdown",
      "metadata": {
        "id": "ibaGr9BHW2j_"
      },
      "source": [
        "**Ejercicio 5**\n",
        "\n",
        "Utilizando diferentes clases en python, crea una calculadora con los operadores básicos de suma, resta, multiplicación, división, y exponente."
      ]
    },
    {
      "cell_type": "code",
      "metadata": {
        "id": "H2nawBlcXFwH"
      },
      "source": [
        "class calculadora:\n",
        "    def suma(self, x,y):\n",
        "        print ('La suma es igual a ' +str((x+y)) )\n",
        "    def resta(self,x,y):\n",
        "        print('La resta es igual a '+str((x-y)) )\n",
        "    def multiplicacion(self,x,y):\n",
        "        print('La multiplicación es igual a ' +str((x*y)))\n",
        "    def division(self,x,y):\n",
        "        print('La división es igual a '+str((x/y)))\n",
        "    def exponencial(self,x,y):\n",
        "        print('La otencia es igual a '+ str((x^y)))\n",
        "c= calculadora()\n",
        "def menu (): #ofrece menu\n",
        "    print(\"\"\"\"\n",
        "    1) Suma\n",
        "    2) Restar\n",
        "    3) Multiplicación\n",
        "    4) División\n",
        "    5) Potencia\n",
        "    6) Salir\n",
        "     \"\"\")\n",
        "    return int(input(\"Elija la operación a realizar: \"))\n",
        "          \n",
        "while (True):\n",
        "    opcion=menu()\n",
        "    if(opcion==6): #salir del programa\n",
        "        print(\"Salir\")\n",
        "        break\n",
        "    else: \n",
        "          num1= int(input('Ingrese un número: '))\n",
        "          num2= int( input('Ingrese otro numero: '))\n",
        "          \n",
        "          if(opcion==1): #imprime calculos desde la lib\n",
        "            c.suma(num1,num2)\n",
        "          elif(opcion==2):\n",
        "            c.resta(num1,num2)\n",
        "          elif(opcion==3):\n",
        "            c.multiplicacion(num1,num2)\n",
        "          elif(opcion==4):\n",
        "            c.division(num1.num2)\n",
        "          elif(opcion==5):\n",
        "            c.exponencial(num1,num2)\n",
        "          else:\n",
        "             print(\"Ingrese una opcion valida: \")"
      ],
      "execution_count": null,
      "outputs": []
    },
    {
      "cell_type": "markdown",
      "metadata": {
        "id": "Yhxhl1_8X2nQ"
      },
      "source": [
        "**Ejercicios con estructuras básicas de python.**\n",
        "\n",
        "**Tuplas**\n",
        "\n",
        "\n",
        "*   Crear una variable flotante, integer, boleana y compleja e imprimir el tipo de variable que es. \n",
        "*   Crear una tupla con valores enteros imprimir el primer y ultimo valor.\n",
        "*   Añadir 3 valores de string a la tupla.\n",
        "*   Verificar si una variable existe dentro de la tupla."
      ]
    },
    {
      "cell_type": "code",
      "metadata": {
        "id": "gsvA7O7UYYEM"
      },
      "source": [
        "varf=float(3.1415)\n",
        "varint=int(3)\n",
        "varbol=bool(0)\n",
        "varcom=complex(3,4)\n",
        "print(varf,\"Variable tipo: \", type(varf))\n",
        "print(varf,\"Variable tipo: \", type(varint))\n",
        "print(varf,\"Variable tipo: \", type(varbol))\n",
        "print(varf,\"Variable tipo: \", type(varcom),)\n",
        "\n",
        "##\n",
        "tupla = (1,2,3,4)\n",
        "print(\"Primer valor:\",tupla[0], \"Ultimo valor\",tupla[3],\"\\n\")\n",
        "\n",
        "#a\n",
        "aux = list(tupla)\n",
        "aux.append(\"Norma\")\n",
        "aux.append(\"Isabel\")\n",
        "aux.append(\"Nicole\")\n",
        "tupla = tuple (aux)\n",
        "print(tupla)\n",
        "\n",
        "###\n",
        "lisvar = []\n",
        "lisvar.extend((varf,varint,varbol,varcom)) \n",
        "any(t in tupla for t in lisvar)"
      ],
      "execution_count": null,
      "outputs": []
    },
    {
      "cell_type": "markdown",
      "metadata": {
        "id": "VjhrIvf-c5UH"
      },
      "source": [
        "**Listas**\n",
        "\n",
        "Crear una lista con 40 elementos aleatorios enteros.\n",
        "\n",
        "*   Con una funcion (def) crear dos listas nuevas a partir de la lista creada por numeros aleatorios, en la cual en una esten los elementos pares, y en la otra los elementos impares.\n",
        "*   Crear dos variables con la longitud de ambas listas nuevas e imprimir las variables.\n",
        "*   Ordenar los elementos de la lista par de mayor a menor, y los de la lista impar de menor a mayor.\n",
        "*   Utilizar al menos cuatro de las funciones de listas en python en la lista original de 40 elementos.\n",
        "\n",
        "\n",
        "\n",
        "\n",
        "\n",
        "\n",
        "\n",
        "\n"
      ]
    },
    {
      "cell_type": "code",
      "metadata": {
        "id": "xarfeIL6ecbU"
      },
      "source": [
        "import random as r \n",
        "aleat = []\n",
        "i=0\n",
        "while i < 40:\n",
        "    num = r.randint (0,100)\n",
        "    aleat.append((num))\n",
        "    i = i+1\n",
        "print(\"lista:\\n\",aleat,\"\\n\")\n",
        "listpar = []\n",
        "listimpar = []\n",
        "\n",
        "def parimpar(aleat):\n",
        "    i=0\n",
        "    while i<40:\n",
        "        if aleat[i] % 2 == 0:\n",
        "            aux= aleat[i]\n",
        "            listpar.append((aux))\n",
        "            i= i+1\n",
        "        else:\n",
        "            aux=aleat[i]\n",
        "            listimpar.append((aux))\n",
        "            i = i+1\n",
        "    print(\"Lista par:\\n\",listpar, \"\\n\")\n",
        "    print(\"Lista impar:\\n\",listimpar, \"\\n\")\n",
        "parimpar(aleat)\n",
        "##\n",
        "long1= len(listpar)\n",
        "long2= len(listimpar)\n",
        "print(\"la longitud de la lista de los pares es: \", long1, \"la longitud de la lista de los impares es:\", long2)\n",
        "\n",
        "##\n",
        "\n",
        "pares= sorted(listpar,reverse=True)\n",
        "impares= sorted(listimpar)\n",
        "\n",
        "print(\"\\Pares mayor a menor: \\n\", pares, \"\\Impares menor a mayor \\n\", impares)\n",
        "\n",
        "##\n",
        "listrandnew= aleat\n",
        "listrandnew.append (3)\n",
        "listrandnew.extend (\"Hola mundo\")\n",
        "listrandnew.reverse ()\n",
        "print(\"\\n4 Funciones: \\n\", listrandnew)"
      ],
      "execution_count": null,
      "outputs": []
    },
    {
      "cell_type": "markdown",
      "metadata": {
        "id": "Gce4t5WxkA26"
      },
      "source": [
        "**Diccionarios**\n",
        "\n",
        "*   Crear un diccionario de 6 personas que conozcas con su primer nombre y su edad.\n",
        "*   Crear una lista con los valores de la edad y reacomodar la lista de menor a mayor valor.\n",
        "*   Usando el diccionario y un loop, imprimir solo los nombres.\n",
        "*   Añadir dos personas nuevas a tu diccionario, incluyendo edad.\n",
        "\n",
        "\n",
        "\n"
      ]
    },
    {
      "cell_type": "code",
      "metadata": {
        "id": "4yo2y1UIkPiR"
      },
      "source": [
        "Dic= {'Nico': 20 , 'German': 21, 'Toño': 23, 'Kevin': 21, 'Mauro':20, 'Regina': 25}\n",
        "print(\"Diccionario:\\n\",Dic)\n",
        "\n",
        "##\n",
        "listdic = Dic.values()\n",
        "listdic = sorted(listdic)\n",
        "print(\"\\nValores de menor a mayor:\\n\", listdic, \"\\n\")\n",
        "\n",
        "##\n",
        "i= 1\n",
        "print(\"Nombres: \")\n",
        "for i in Dic:\n",
        "    print(i)\n",
        "\n",
        "##    \n",
        "Dic[\"Lorena\"] = '19'\n",
        "Dic[\"Frida\"] = '23'\n",
        "print(\"\\nDiccionario:\\n\", Dic)"
      ],
      "execution_count": null,
      "outputs": []
    },
    {
      "cell_type": "markdown",
      "metadata": {
        "id": "ehWJM2DXlwbp"
      },
      "source": [
        "**Sets**\n",
        "\n",
        "\n",
        "*   Crea un set con 100 numeros aleatorios enteros del 1 al 25.\n",
        "*   Comprueba la longitud de tu set.\n",
        "*   Crea una lista de 5 numeros aleatorios del 1 al 10 y comprueba si cada valor aparece en el set inicial.\n",
        "\n",
        "\n",
        "\n"
      ]
    },
    {
      "cell_type": "code",
      "metadata": {
        "colab": {
          "base_uri": "https://localhost:8080/"
        },
        "id": "dIDnwyO2mARx",
        "outputId": "b58fcbc7-4d18-471d-af3c-c48896eaced5"
      },
      "source": [
        "import random as r\n",
        "set1 = set()\n",
        "i=0\n",
        "while i<100:\n",
        "    set1.add(r.randint(1,25))\n",
        "    i= i+1\n",
        "print(\"Set random: \\n\", set1)\n",
        "\n",
        "##\n",
        "longset = len(set1)\n",
        "print(\"\\nLongitud del set:\\n\" , longset)\n",
        "\n",
        "##\n",
        "lista5= list()\n",
        "i = 0\n",
        "while i< 10:\n",
        "    num = r.randint(1,10)\n",
        "    lista5.append(num)\n",
        "    i = i+1\n",
        "i= 0\n",
        "while i< 10:\n",
        "    comp = lista5[i] in set1\n",
        "    print(\"\\n¿Número \",lista5[i],\"forma parte del set inicial?:\\n\",comp)\n",
        "    i = i+1"
      ],
      "execution_count": 102,
      "outputs": [
        {
          "output_type": "stream",
          "text": [
            "Set random: \n",
            " {1, 2, 3, 4, 5, 6, 7, 8, 9, 10, 11, 12, 13, 14, 15, 16, 17, 18, 19, 20, 21, 22, 23, 24, 25}\n",
            "\n",
            "Longitud del set:\n",
            " 25\n",
            "\n",
            "¿Número  1 orma parte del set inicial?:\n",
            " True\n",
            "\n",
            "¿Número  1 orma parte del set inicial?:\n",
            " True\n",
            "\n",
            "¿Número  1 orma parte del set inicial?:\n",
            " True\n",
            "\n",
            "¿Número  1 orma parte del set inicial?:\n",
            " True\n",
            "\n",
            "¿Número  9 orma parte del set inicial?:\n",
            " True\n",
            "\n",
            "¿Número  5 orma parte del set inicial?:\n",
            " True\n",
            "\n",
            "¿Número  8 orma parte del set inicial?:\n",
            " True\n",
            "\n",
            "¿Número  7 orma parte del set inicial?:\n",
            " True\n",
            "\n",
            "¿Número  10 orma parte del set inicial?:\n",
            " True\n",
            "\n",
            "¿Número  4 orma parte del set inicial?:\n",
            " True\n"
          ],
          "name": "stdout"
        }
      ]
    }
  ]
}