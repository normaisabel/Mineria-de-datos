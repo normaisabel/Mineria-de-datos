{
  "nbformat": 4,
  "nbformat_minor": 0,
  "metadata": {
    "colab": {
      "name": "Avance1_PIA(Op.2)_Equipo4",
      "provenance": []
    },
    "kernelspec": {
      "name": "python3",
      "display_name": "Python 3"
    },
    "language_info": {
      "name": "python"
    }
  },
  "cells": [
    {
      "cell_type": "markdown",
      "metadata": {
        "id": "-WVXH5iyL6aC"
      },
      "source": [
        "#Avance PIA (Opción 2)\n",
        "\n",
        "* Equipo #4\n",
        "* Grupo: 02, Frecuencia de clase: Miércoles\n",
        "* Integrantes:\n",
        "  * 1857602 Díaz Vázquez Jisbeth Jaquelin.\n",
        "  * 1842201 Ramiro Mayorga Julio César.\n",
        "  * 1854552 Requenes Villarreal Linda Karina.\n",
        "  * 1941443 Martínez Valdez Norma Isabel.\n"
      ]
    },
    {
      "cell_type": "markdown",
      "metadata": {
        "id": "VjPO_BOLMGl8"
      },
      "source": [
        "* Título de la base de datos: Used Cars Dataset\n",
        "  * Nombre con que se encuentra en la página encontrada:  Used Cars Dataset\n",
        "  * URL de página: https://www.kaggle.com/austinreese/craigslist-carstrucks-data"
      ]
    },
    {
      "cell_type": "markdown",
      "metadata": {
        "id": "nrLG7LwhMGGt"
      },
      "source": [
        "# Introducción General\n",
        "Cuando vas a comprar un carro pueden surgir muchas dudas ya que es una decisión importante por la inversión que debes destinar. La principal interrogante es ¿qué me conviene más un auto usado o uno nuevo? Esto depende de las necesidades y expectativas que tenga cada persona.\n",
        "\n",
        "* Auto nuevo\n",
        "  * Ventajas\n",
        "    1. Garantía por defectos.\n",
        "    2. Alta tecnología.\n",
        "    3. Sin antecedentes de transito y 0 kilometraje.\n",
        "    4. Contaminan menos.\n",
        "  \n",
        "  * Desventajas\n",
        "    1. Valor depreciado.\n",
        "    2. Para que el dealer haga válida la garantía durante el tiempo establecido exige que el dueño del carro cumpla con todo el proceso de mantenimiento del carro.\n",
        "    3. Seguros con precios elevados debido a que los costos de reparación de estos vehículos son más caros.\n",
        "\n",
        "* Auto Usado\n",
        "  * Ventajas \n",
        "    1.  Puedes encontrar un carro con muy poco uso y a un excelente precio.\n",
        "    2. Gastos de seguro y mantenimiento menores.\n",
        "    3. Puedes encontrar autos con ciertas actualizaciones tecnológicas.\n",
        "\n",
        "  * Desventajas\n",
        "    1. Debes asegurarte de que el carro se encuentre en buenas condiciones más allá de lo que se ve de forma superficial.\n",
        "    2. Menor vida útil y reparaciones con mayor frecuencia después de un tiempo de uso.\n"
      ]
    },
    {
      "cell_type": "markdown",
      "metadata": {
        "id": "Ncf_if8rMO6j"
      },
      "source": [
        "# Descripción de datos\n",
        "\n",
        "Craigslist es la colección de vehículos usados a la venta más grande del mundo. Este conjunto de datos incluye todas las entradas de vehículos usados dentro de los Estados Unidos en Craigslist.\n",
        "\n",
        "Estos datos se recogen cada pocos meses y  contienen la mayor parte de la información relevante que Craigslist proporciona sobre las ventas de automóviles, incluidas columnas como precio, estado, fabricante, latitud / longitud y otras 18 categorías. \n",
        "\n",
        "* Tipo de Datos\n",
        "\n",
        "* Descripción de las columnas"
      ]
    },
    {
      "cell_type": "markdown",
      "metadata": {
        "id": "wE5_3CGxMR1a"
      },
      "source": [
        "# Justificación del uso de datos\n",
        "\n",
        "\n",
        "*   **Características de interés**\n",
        "\n",
        "El proyecto que se presenta pretende exponer de forma ordenada, metodológica y práctica las tendencias de reventa de autos en Estados Unidos. \n",
        "La industria automotriz ha sufrido graves consecuencias debido a la epidemia, en donde la mayor parte de los problemas no parecen estar en las fabricas, sino directamente en los pisos de venta y reventa.\n",
        "*   **Beneficio al trabajar con esos datos**\n",
        "\n",
        "En base a estimaciones, podríamos determinar los modelos que consideramos ideales para compra si es que deseas hacerte de un seminuevo pues existen diversos factores a evaluar al momento de elegir un coche usado, como lo son: precio, confiablidad, rendimiento, mantenimiento, kilometraje, desgaste y el porcentaje de depreciación, siendo los temas más importantes a destacar, previo a la toma de decisión de compra.\n",
        "\n"
      ]
    },
    {
      "cell_type": "markdown",
      "metadata": {
        "id": "-83dGs9qMR4P"
      },
      "source": [
        "# Objetivo final\n",
        "Crear un mecanismo de elección de modelo ideal, con base en las necesidades mecánicas, personales y económicas del comprador; la mayoría de los consumidores erróneamente considera el precio base como el factor más importante en su decisión lo cierto es que hay que tomar en cuenta además el costo de mantenimiento, de la póliza del seguro del auto, la gasolina, las eventuales reparaciones y especialmente el valor de reventa dependiente l modelo de automóvil deseado."
      ]
    },
    {
      "cell_type": "markdown",
      "metadata": {
        "id": "8cw-veShMZCZ"
      },
      "source": [
        "# Preguntas de interés\n",
        "\n",
        "\n",
        "\n",
        "*   ¿Qué marcas son más frecuentes en la reventa de autos?\n",
        "*   ¿Cuáles son los aspectos a considerar al pensar en adquirir un coche usado?\n",
        "*   ¿En dónde conviene comprarlo?\n",
        "*   ¿Cuáles son los aspectos a evaluar antes de completar la compra?\n",
        "*   ¿Con qué presupuesto cuenta el comprador?\n",
        "*   Elemento de la lista\n",
        "\n",
        "\n",
        "\n",
        "\n",
        "\n",
        "\n",
        "\n"
      ]
    },
    {
      "cell_type": "markdown",
      "metadata": {
        "id": "mDZ-ce5IMZk8"
      },
      "source": [
        "# Programación"
      ]
    },
    {
      "cell_type": "code",
      "metadata": {
        "id": "pr9Tu7W9Mf1q"
      },
      "source": [
        "import pandas as pd\n",
        "import numpy as np\n",
        "import json\n",
        "df = pd.read_csv('vehicles.csv')"
      ],
      "execution_count": null,
      "outputs": []
    },
    {
      "cell_type": "markdown",
      "metadata": {
        "id": "2SXN8-7GIhNE"
      },
      "source": [
        "Las dimensiones de nuestra Base de datos 26 columnas y 13463 filas"
      ]
    },
    {
      "cell_type": "code",
      "metadata": {
        "colab": {
          "base_uri": "https://localhost:8080/"
        },
        "id": "i4BVZxK9IgO1",
        "outputId": "4ead37a4-4f89-4f94-9941-635ad2f233fa"
      },
      "source": [
        "df.shape"
      ],
      "execution_count": null,
      "outputs": [
        {
          "output_type": "execute_result",
          "data": {
            "text/plain": [
              "(13463, 26)"
            ]
          },
          "metadata": {},
          "execution_count": 5
        }
      ]
    },
    {
      "cell_type": "markdown",
      "metadata": {
        "id": "_pg55txnJOza"
      },
      "source": [
        "Filas y columnas de nuestra base de datos:"
      ]
    },
    {
      "cell_type": "code",
      "metadata": {
        "colab": {
          "base_uri": "https://localhost:8080/",
          "height": 261
        },
        "id": "gnWv8iENI3rR",
        "outputId": "467601d9-073b-473c-ddb8-02e626cd7f65"
      },
      "source": [
        "df.head()"
      ],
      "execution_count": null,
      "outputs": [
        {
          "output_type": "execute_result",
          "data": {
            "text/html": [
              "<div>\n",
              "<style scoped>\n",
              "    .dataframe tbody tr th:only-of-type {\n",
              "        vertical-align: middle;\n",
              "    }\n",
              "\n",
              "    .dataframe tbody tr th {\n",
              "        vertical-align: top;\n",
              "    }\n",
              "\n",
              "    .dataframe thead th {\n",
              "        text-align: right;\n",
              "    }\n",
              "</style>\n",
              "<table border=\"1\" class=\"dataframe\">\n",
              "  <thead>\n",
              "    <tr style=\"text-align: right;\">\n",
              "      <th></th>\n",
              "      <th>id</th>\n",
              "      <th>url</th>\n",
              "      <th>region</th>\n",
              "      <th>region_url</th>\n",
              "      <th>price</th>\n",
              "      <th>year</th>\n",
              "      <th>manufacturer</th>\n",
              "      <th>model</th>\n",
              "      <th>condition</th>\n",
              "      <th>cylinders</th>\n",
              "      <th>fuel</th>\n",
              "      <th>odometer</th>\n",
              "      <th>title_status</th>\n",
              "      <th>transmission</th>\n",
              "      <th>VIN</th>\n",
              "      <th>drive</th>\n",
              "      <th>size</th>\n",
              "      <th>type</th>\n",
              "      <th>paint_color</th>\n",
              "      <th>image_url</th>\n",
              "      <th>description</th>\n",
              "      <th>county</th>\n",
              "      <th>state</th>\n",
              "      <th>lat</th>\n",
              "      <th>long</th>\n",
              "      <th>posting_date</th>\n",
              "    </tr>\n",
              "  </thead>\n",
              "  <tbody>\n",
              "    <tr>\n",
              "      <th>0</th>\n",
              "      <td>7222695916</td>\n",
              "      <td>https://prescott.craigslist.org/cto/d/prescott...</td>\n",
              "      <td>prescott</td>\n",
              "      <td>https://prescott.craigslist.org</td>\n",
              "      <td>6000.0</td>\n",
              "      <td>NaN</td>\n",
              "      <td>NaN</td>\n",
              "      <td>NaN</td>\n",
              "      <td>NaN</td>\n",
              "      <td>NaN</td>\n",
              "      <td>NaN</td>\n",
              "      <td>NaN</td>\n",
              "      <td>NaN</td>\n",
              "      <td>NaN</td>\n",
              "      <td>NaN</td>\n",
              "      <td>NaN</td>\n",
              "      <td>NaN</td>\n",
              "      <td>NaN</td>\n",
              "      <td>NaN</td>\n",
              "      <td>NaN</td>\n",
              "      <td>NaN</td>\n",
              "      <td>NaN</td>\n",
              "      <td>az</td>\n",
              "      <td>NaN</td>\n",
              "      <td>NaN</td>\n",
              "      <td>NaN</td>\n",
              "    </tr>\n",
              "    <tr>\n",
              "      <th>1</th>\n",
              "      <td>7218891961</td>\n",
              "      <td>https://fayar.craigslist.org/ctd/d/bentonville...</td>\n",
              "      <td>fayetteville</td>\n",
              "      <td>https://fayar.craigslist.org</td>\n",
              "      <td>11900.0</td>\n",
              "      <td>NaN</td>\n",
              "      <td>NaN</td>\n",
              "      <td>NaN</td>\n",
              "      <td>NaN</td>\n",
              "      <td>NaN</td>\n",
              "      <td>NaN</td>\n",
              "      <td>NaN</td>\n",
              "      <td>NaN</td>\n",
              "      <td>NaN</td>\n",
              "      <td>NaN</td>\n",
              "      <td>NaN</td>\n",
              "      <td>NaN</td>\n",
              "      <td>NaN</td>\n",
              "      <td>NaN</td>\n",
              "      <td>NaN</td>\n",
              "      <td>NaN</td>\n",
              "      <td>NaN</td>\n",
              "      <td>ar</td>\n",
              "      <td>NaN</td>\n",
              "      <td>NaN</td>\n",
              "      <td>NaN</td>\n",
              "    </tr>\n",
              "    <tr>\n",
              "      <th>2</th>\n",
              "      <td>7221797935</td>\n",
              "      <td>https://keys.craigslist.org/cto/d/summerland-k...</td>\n",
              "      <td>florida keys</td>\n",
              "      <td>https://keys.craigslist.org</td>\n",
              "      <td>21000.0</td>\n",
              "      <td>NaN</td>\n",
              "      <td>NaN</td>\n",
              "      <td>NaN</td>\n",
              "      <td>NaN</td>\n",
              "      <td>NaN</td>\n",
              "      <td>NaN</td>\n",
              "      <td>NaN</td>\n",
              "      <td>NaN</td>\n",
              "      <td>NaN</td>\n",
              "      <td>NaN</td>\n",
              "      <td>NaN</td>\n",
              "      <td>NaN</td>\n",
              "      <td>NaN</td>\n",
              "      <td>NaN</td>\n",
              "      <td>NaN</td>\n",
              "      <td>NaN</td>\n",
              "      <td>NaN</td>\n",
              "      <td>fl</td>\n",
              "      <td>NaN</td>\n",
              "      <td>NaN</td>\n",
              "      <td>NaN</td>\n",
              "    </tr>\n",
              "    <tr>\n",
              "      <th>3</th>\n",
              "      <td>7222270760</td>\n",
              "      <td>https://worcester.craigslist.org/cto/d/west-br...</td>\n",
              "      <td>worcester / central MA</td>\n",
              "      <td>https://worcester.craigslist.org</td>\n",
              "      <td>1500.0</td>\n",
              "      <td>NaN</td>\n",
              "      <td>NaN</td>\n",
              "      <td>NaN</td>\n",
              "      <td>NaN</td>\n",
              "      <td>NaN</td>\n",
              "      <td>NaN</td>\n",
              "      <td>NaN</td>\n",
              "      <td>NaN</td>\n",
              "      <td>NaN</td>\n",
              "      <td>NaN</td>\n",
              "      <td>NaN</td>\n",
              "      <td>NaN</td>\n",
              "      <td>NaN</td>\n",
              "      <td>NaN</td>\n",
              "      <td>NaN</td>\n",
              "      <td>NaN</td>\n",
              "      <td>NaN</td>\n",
              "      <td>ma</td>\n",
              "      <td>NaN</td>\n",
              "      <td>NaN</td>\n",
              "      <td>NaN</td>\n",
              "    </tr>\n",
              "    <tr>\n",
              "      <th>4</th>\n",
              "      <td>7210384030</td>\n",
              "      <td>https://greensboro.craigslist.org/cto/d/trinit...</td>\n",
              "      <td>greensboro</td>\n",
              "      <td>https://greensboro.craigslist.org</td>\n",
              "      <td>4900.0</td>\n",
              "      <td>NaN</td>\n",
              "      <td>NaN</td>\n",
              "      <td>NaN</td>\n",
              "      <td>NaN</td>\n",
              "      <td>NaN</td>\n",
              "      <td>NaN</td>\n",
              "      <td>NaN</td>\n",
              "      <td>NaN</td>\n",
              "      <td>NaN</td>\n",
              "      <td>NaN</td>\n",
              "      <td>NaN</td>\n",
              "      <td>NaN</td>\n",
              "      <td>NaN</td>\n",
              "      <td>NaN</td>\n",
              "      <td>NaN</td>\n",
              "      <td>NaN</td>\n",
              "      <td>NaN</td>\n",
              "      <td>nc</td>\n",
              "      <td>NaN</td>\n",
              "      <td>NaN</td>\n",
              "      <td>NaN</td>\n",
              "    </tr>\n",
              "  </tbody>\n",
              "</table>\n",
              "</div>"
            ],
            "text/plain": [
              "           id  ... posting_date\n",
              "0  7222695916  ...          NaN\n",
              "1  7218891961  ...          NaN\n",
              "2  7221797935  ...          NaN\n",
              "3  7222270760  ...          NaN\n",
              "4  7210384030  ...          NaN\n",
              "\n",
              "[5 rows x 26 columns]"
            ]
          },
          "metadata": {},
          "execution_count": 8
        }
      ]
    },
    {
      "cell_type": "code",
      "metadata": {
        "colab": {
          "base_uri": "https://localhost:8080/",
          "height": 469
        },
        "id": "3Zvpbv63JEhd",
        "outputId": "e4fa55f3-428e-44dd-d524-3a6b6465fe42"
      },
      "source": [
        "df.tail()"
      ],
      "execution_count": null,
      "outputs": [
        {
          "output_type": "execute_result",
          "data": {
            "text/html": [
              "<div>\n",
              "<style scoped>\n",
              "    .dataframe tbody tr th:only-of-type {\n",
              "        vertical-align: middle;\n",
              "    }\n",
              "\n",
              "    .dataframe tbody tr th {\n",
              "        vertical-align: top;\n",
              "    }\n",
              "\n",
              "    .dataframe thead th {\n",
              "        text-align: right;\n",
              "    }\n",
              "</style>\n",
              "<table border=\"1\" class=\"dataframe\">\n",
              "  <thead>\n",
              "    <tr style=\"text-align: right;\">\n",
              "      <th></th>\n",
              "      <th>id</th>\n",
              "      <th>url</th>\n",
              "      <th>region</th>\n",
              "      <th>region_url</th>\n",
              "      <th>price</th>\n",
              "      <th>year</th>\n",
              "      <th>manufacturer</th>\n",
              "      <th>model</th>\n",
              "      <th>condition</th>\n",
              "      <th>cylinders</th>\n",
              "      <th>fuel</th>\n",
              "      <th>odometer</th>\n",
              "      <th>title_status</th>\n",
              "      <th>transmission</th>\n",
              "      <th>VIN</th>\n",
              "      <th>drive</th>\n",
              "      <th>size</th>\n",
              "      <th>type</th>\n",
              "      <th>paint_color</th>\n",
              "      <th>image_url</th>\n",
              "      <th>description</th>\n",
              "      <th>county</th>\n",
              "      <th>state</th>\n",
              "      <th>lat</th>\n",
              "      <th>long</th>\n",
              "      <th>posting_date</th>\n",
              "    </tr>\n",
              "  </thead>\n",
              "  <tbody>\n",
              "    <tr>\n",
              "      <th>13458</th>\n",
              "      <td>7302191374</td>\n",
              "      <td>https://prescott.craigslist.org/ctd/d/prescott...</td>\n",
              "      <td>prescott</td>\n",
              "      <td>https://prescott.craigslist.org</td>\n",
              "      <td>16990.0</td>\n",
              "      <td>2014.0</td>\n",
              "      <td>acura</td>\n",
              "      <td>rdx sport utility 4d</td>\n",
              "      <td>good</td>\n",
              "      <td>6 cylinders</td>\n",
              "      <td>gas</td>\n",
              "      <td>86919.0</td>\n",
              "      <td>clean</td>\n",
              "      <td>automatic</td>\n",
              "      <td>5J8TB3H59EL004581</td>\n",
              "      <td>fwd</td>\n",
              "      <td>NaN</td>\n",
              "      <td>SUV</td>\n",
              "      <td>black</td>\n",
              "      <td>https://images.craigslist.org/01010_ehZMbMrOPN...</td>\n",
              "      <td>Carvana is the safer way to buy a car During t...</td>\n",
              "      <td>NaN</td>\n",
              "      <td>az</td>\n",
              "      <td>34.620000</td>\n",
              "      <td>-112.420000</td>\n",
              "      <td>2021-04-05T11:21:08-0700</td>\n",
              "    </tr>\n",
              "    <tr>\n",
              "      <th>13459</th>\n",
              "      <td>7302164118</td>\n",
              "      <td>https://prescott.craigslist.org/ctd/d/prescott...</td>\n",
              "      <td>prescott</td>\n",
              "      <td>https://prescott.craigslist.org</td>\n",
              "      <td>17590.0</td>\n",
              "      <td>2015.0</td>\n",
              "      <td>acura</td>\n",
              "      <td>rdx sport utility 4d</td>\n",
              "      <td>good</td>\n",
              "      <td>6 cylinders</td>\n",
              "      <td>gas</td>\n",
              "      <td>80556.0</td>\n",
              "      <td>clean</td>\n",
              "      <td>automatic</td>\n",
              "      <td>5J8TB3H30FL002931</td>\n",
              "      <td>fwd</td>\n",
              "      <td>NaN</td>\n",
              "      <td>SUV</td>\n",
              "      <td>brown</td>\n",
              "      <td>https://images.craigslist.org/00U0U_c59NlvOiuc...</td>\n",
              "      <td>Carvana is the safer way to buy a car During t...</td>\n",
              "      <td>NaN</td>\n",
              "      <td>az</td>\n",
              "      <td>34.620000</td>\n",
              "      <td>-112.420000</td>\n",
              "      <td>2021-04-05T10:41:08-0700</td>\n",
              "    </tr>\n",
              "    <tr>\n",
              "      <th>13460</th>\n",
              "      <td>7302135431</td>\n",
              "      <td>https://prescott.craigslist.org/ctd/d/prescott...</td>\n",
              "      <td>prescott</td>\n",
              "      <td>https://prescott.craigslist.org</td>\n",
              "      <td>530.0</td>\n",
              "      <td>2020.0</td>\n",
              "      <td>chevrolet</td>\n",
              "      <td>trax</td>\n",
              "      <td>excellent</td>\n",
              "      <td>4 cylinders</td>\n",
              "      <td>gas</td>\n",
              "      <td>4440.0</td>\n",
              "      <td>clean</td>\n",
              "      <td>automatic</td>\n",
              "      <td>3GNCJNSB0LL232957</td>\n",
              "      <td>NaN</td>\n",
              "      <td>NaN</td>\n",
              "      <td>SUV</td>\n",
              "      <td>NaN</td>\n",
              "      <td>https://images.craigslist.org/00r0r_8upBKlhSEL...</td>\n",
              "      <td>2020 Chevrolet Trax  by Prescott Honda  Stock#...</td>\n",
              "      <td>NaN</td>\n",
              "      <td>az</td>\n",
              "      <td>34.605818</td>\n",
              "      <td>-112.451775</td>\n",
              "      <td>2021-04-05T10:00:11-0700</td>\n",
              "    </tr>\n",
              "    <tr>\n",
              "      <th>13461</th>\n",
              "      <td>7302122608</td>\n",
              "      <td>https://prescott.craigslist.org/ctd/d/prescott...</td>\n",
              "      <td>prescott</td>\n",
              "      <td>https://prescott.craigslist.org</td>\n",
              "      <td>23990.0</td>\n",
              "      <td>2018.0</td>\n",
              "      <td>acura</td>\n",
              "      <td>rdx sport utility 4d</td>\n",
              "      <td>good</td>\n",
              "      <td>6 cylinders</td>\n",
              "      <td>gas</td>\n",
              "      <td>49760.0</td>\n",
              "      <td>clean</td>\n",
              "      <td>automatic</td>\n",
              "      <td>5J8TB4H37JL026206</td>\n",
              "      <td>NaN</td>\n",
              "      <td>NaN</td>\n",
              "      <td>SUV</td>\n",
              "      <td>black</td>\n",
              "      <td>https://images.craigslist.org/00t0t_6UP7VUPZfp...</td>\n",
              "      <td>Carvana is the safer way to buy a car During t...</td>\n",
              "      <td>NaN</td>\n",
              "      <td>az</td>\n",
              "      <td>34.620000</td>\n",
              "      <td>-112.420000</td>\n",
              "      <td>2021-04-05T09:41:24-0700</td>\n",
              "    </tr>\n",
              "    <tr>\n",
              "      <th>13462</th>\n",
              "      <td>7302095187</td>\n",
              "      <td>https://prescott.craigslist.org/ctd/d/prescott...</td>\n",
              "      <td>NaN</td>\n",
              "      <td>NaN</td>\n",
              "      <td>NaN</td>\n",
              "      <td>NaN</td>\n",
              "      <td>NaN</td>\n",
              "      <td>NaN</td>\n",
              "      <td>NaN</td>\n",
              "      <td>NaN</td>\n",
              "      <td>NaN</td>\n",
              "      <td>NaN</td>\n",
              "      <td>NaN</td>\n",
              "      <td>NaN</td>\n",
              "      <td>NaN</td>\n",
              "      <td>NaN</td>\n",
              "      <td>NaN</td>\n",
              "      <td>NaN</td>\n",
              "      <td>NaN</td>\n",
              "      <td>NaN</td>\n",
              "      <td>NaN</td>\n",
              "      <td>NaN</td>\n",
              "      <td>NaN</td>\n",
              "      <td>NaN</td>\n",
              "      <td>NaN</td>\n",
              "      <td>NaN</td>\n",
              "    </tr>\n",
              "  </tbody>\n",
              "</table>\n",
              "</div>"
            ],
            "text/plain": [
              "               id  ...              posting_date\n",
              "13458  7302191374  ...  2021-04-05T11:21:08-0700\n",
              "13459  7302164118  ...  2021-04-05T10:41:08-0700\n",
              "13460  7302135431  ...  2021-04-05T10:00:11-0700\n",
              "13461  7302122608  ...  2021-04-05T09:41:24-0700\n",
              "13462  7302095187  ...                       NaN\n",
              "\n",
              "[5 rows x 26 columns]"
            ]
          },
          "metadata": {},
          "execution_count": 9
        }
      ]
    },
    {
      "cell_type": "markdown",
      "metadata": {
        "id": "WcSOFHUNJd3_"
      },
      "source": [
        "Los nombres de las columnas y sus tipos de datos"
      ]
    },
    {
      "cell_type": "code",
      "metadata": {
        "colab": {
          "base_uri": "https://localhost:8080/"
        },
        "id": "vxKKmxDdJGgg",
        "outputId": "74137fd3-5daa-4492-b6a9-50a69dbc44c8"
      },
      "source": [
        "df.columns"
      ],
      "execution_count": null,
      "outputs": [
        {
          "output_type": "execute_result",
          "data": {
            "text/plain": [
              "Index(['id', 'url', 'region', 'region_url', 'price', 'year', 'manufacturer',\n",
              "       'model', 'condition', 'cylinders', 'fuel', 'odometer', 'title_status',\n",
              "       'transmission', 'VIN', 'drive', 'size', 'type', 'paint_color',\n",
              "       'image_url', 'description', 'county', 'state', 'lat', 'long',\n",
              "       'posting_date'],\n",
              "      dtype='object')"
            ]
          },
          "metadata": {},
          "execution_count": 10
        }
      ]
    },
    {
      "cell_type": "code",
      "metadata": {
        "colab": {
          "base_uri": "https://localhost:8080/"
        },
        "id": "HfgXoWAoJGua",
        "outputId": "5d7a7bfe-9fe2-4aac-9d08-3323a0df8798"
      },
      "source": [
        "df.dtypes"
      ],
      "execution_count": null,
      "outputs": [
        {
          "output_type": "execute_result",
          "data": {
            "text/plain": [
              "id                int64\n",
              "url              object\n",
              "region           object\n",
              "region_url       object\n",
              "price           float64\n",
              "year            float64\n",
              "manufacturer     object\n",
              "model            object\n",
              "condition        object\n",
              "cylinders        object\n",
              "fuel             object\n",
              "odometer        float64\n",
              "title_status     object\n",
              "transmission     object\n",
              "VIN              object\n",
              "drive            object\n",
              "size             object\n",
              "type             object\n",
              "paint_color      object\n",
              "image_url        object\n",
              "description      object\n",
              "county          float64\n",
              "state            object\n",
              "lat             float64\n",
              "long            float64\n",
              "posting_date     object\n",
              "dtype: object"
            ]
          },
          "metadata": {},
          "execution_count": 11
        }
      ]
    },
    {
      "cell_type": "markdown",
      "metadata": {
        "id": "JNeVdLT9s4P8"
      },
      "source": [
        "Clasificación de datos por columna Model"
      ]
    },
    {
      "cell_type": "code",
      "metadata": {
        "id": "GvYsR7dCJGxm"
      },
      "source": [
        ""
      ],
      "execution_count": null,
      "outputs": []
    },
    {
      "cell_type": "code",
      "metadata": {
        "id": "EaRUcU7PJG3y"
      },
      "source": [
        ""
      ],
      "execution_count": null,
      "outputs": []
    }
  ]
}